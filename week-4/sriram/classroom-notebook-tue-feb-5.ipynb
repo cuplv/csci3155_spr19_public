{
 "cells": [
  {
   "cell_type": "code",
   "execution_count": 1,
   "metadata": {},
   "outputs": [
    {
     "data": {
      "text/plain": [
       "defined \u001b[32mtrait\u001b[39m \u001b[36mMyList\u001b[39m\n",
       "defined \u001b[32mobject\u001b[39m \u001b[36mNil\u001b[39m\n",
       "defined \u001b[32mclass\u001b[39m \u001b[36mCons\u001b[39m"
      ]
     },
     "execution_count": 1,
     "metadata": {},
     "output_type": "execute_result"
    }
   ],
   "source": [
    "sealed trait MyList\n",
    "case object Nil extends MyList\n",
    "case class Cons(j: Int, tl: MyList) extends MyList\n"
   ]
  },
  {
   "cell_type": "code",
   "execution_count": 2,
   "metadata": {},
   "outputs": [
    {
     "data": {
      "text/plain": [
       "defined \u001b[32mfunction\u001b[39m \u001b[36misAscendingOrderList\u001b[39m"
      ]
     },
     "execution_count": 2,
     "metadata": {},
     "output_type": "execute_result"
    }
   ],
   "source": [
    "def isAscendingOrderList(l: MyList): Boolean = l match {\n",
    "    case Nil => true\n",
    "    case Cons(_, Nil) => true\n",
    "    case Cons(j1, tl@Cons(j2, tl2))  => if (j1 > j2) false else isAscendingOrderList(tl)\n",
    "   // case Cons(j1, tl) => \n",
    "    case _ => \n",
    "}"
   ]
  },
  {
   "cell_type": "code",
   "execution_count": 3,
   "metadata": {},
   "outputs": [
    {
     "data": {
      "text/plain": [
       "\u001b[36mres2\u001b[39m: \u001b[32mBoolean\u001b[39m = false"
      ]
     },
     "execution_count": 3,
     "metadata": {},
     "output_type": "execute_result"
    }
   ],
   "source": [
    "isAscendingOrderList( Cons(15, Cons(12, Nil)) )"
   ]
  },
  {
   "cell_type": "code",
   "execution_count": 4,
   "metadata": {},
   "outputs": [
    {
     "data": {
      "text/plain": [
       "\u001b[36mres3\u001b[39m: \u001b[32mBoolean\u001b[39m = true"
      ]
     },
     "execution_count": 4,
     "metadata": {},
     "output_type": "execute_result"
    }
   ],
   "source": [
    "isAscendingOrderList( Cons(1, Cons(2, Cons(3, Nil))))"
   ]
  },
  {
   "cell_type": "code",
   "execution_count": 6,
   "metadata": {},
   "outputs": [
    {
     "data": {
      "text/plain": [
       "defined \u001b[32mfunction\u001b[39m \u001b[36maddToEnd\u001b[39m"
      ]
     },
     "execution_count": 6,
     "metadata": {},
     "output_type": "execute_result"
    }
   ],
   "source": [
    "def addToEnd(l: MyList, k: Int): MyList =  \n",
    "// l = Cons(1, Cons(2, Nil)) k = 3 ~~> Cons(1, Cons(2, Cons(3, Nil)))\n",
    "    l match {\n",
    "        case Nil => Cons(k, Nil)\n",
    "        case Cons(j, tl) => Cons(j, addToEnd(tl, k))\n",
    "    }"
   ]
  },
  {
   "cell_type": "code",
   "execution_count": null,
   "metadata": {},
   "outputs": [],
   "source": [
    "def reverse(l: MyList): MyList = l match {\n",
    "    case Nil => Nil\n",
    "    case Cons(j, tl) => { addToEnd(reverse(tl), j)\n",
    "  //        val l1 = reverse(tl)\n",
    "  //      val l2 = addToEnd(l1, j)\n",
    " //       l2\n",
    "    }\n",
    "}\n",
    "\n",
    "// l = Cons(1, Cons(2, Cons(3, Nil))) ~~> Cons(3, Cons(2, Cons(1, Nil)))"
   ]
  },
  {
   "cell_type": "code",
   "execution_count": 7,
   "metadata": {},
   "outputs": [
    {
     "data": {
      "text/plain": [
       "defined \u001b[32mfunction\u001b[39m \u001b[36mreverseHelper\u001b[39m"
      ]
     },
     "execution_count": 7,
     "metadata": {},
     "output_type": "execute_result"
    }
   ],
   "source": [
    "def reverseHelper(l: MyList, result: MyList = Nil): MyList =\n",
    "l match {\n",
    "    case Nil => result\n",
    "    case Cons(j, tl) => reverseHelper(tl, Cons(j, result))\n",
    "}"
   ]
  },
  {
   "cell_type": "code",
   "execution_count": 12,
   "metadata": {},
   "outputs": [
    {
     "data": {
      "text/plain": [
       "defined \u001b[32mtrait\u001b[39m \u001b[36mExpr\u001b[39m\n",
       "defined \u001b[32mclass\u001b[39m \u001b[36mConst\u001b[39m\n",
       "defined \u001b[32mclass\u001b[39m \u001b[36mIdent\u001b[39m\n",
       "defined \u001b[32mclass\u001b[39m \u001b[36mPlus\u001b[39m\n",
       "defined \u001b[32mclass\u001b[39m \u001b[36mMinus\u001b[39m\n",
       "defined \u001b[32mclass\u001b[39m \u001b[36mMult\u001b[39m\n",
       "defined \u001b[32mclass\u001b[39m \u001b[36mDiv\u001b[39m\n",
       "defined \u001b[32mclass\u001b[39m \u001b[36mLog\u001b[39m\n",
       "defined \u001b[32mclass\u001b[39m \u001b[36mExp\u001b[39m\n",
       "defined \u001b[32mclass\u001b[39m \u001b[36mSine\u001b[39m\n",
       "defined \u001b[32mclass\u001b[39m \u001b[36mCosine\u001b[39m"
      ]
     },
     "execution_count": 12,
     "metadata": {},
     "output_type": "execute_result"
    }
   ],
   "source": [
    "sealed trait Expr\n",
    "case class Const(f: Double) extends Expr \n",
    "// 1. We cheated a bit and allowed all floating point numbers\n",
    "// Also, this deviates from the grammar\n",
    "case class Ident(s: String) extends Expr\n",
    "// 2. We allow any string to be an identifier for now instead of the regular expression shown in the grammar.\n",
    "case class Plus(e1: Expr, e2: Expr ) extends Expr\n",
    "case class Minus(e1: Expr, e2: Expr) extends Expr\n",
    "case class Mult(e1: Expr, e2: Expr) extends Expr\n",
    "case class Div(e1: Expr, e2: Expr) extends Expr\n",
    "case class Log(e: Expr) extends Expr\n",
    "case class Exp(e: Expr) extends Expr\n",
    "case class Sine(e: Expr) extends Expr\n",
    "case class Cosine(e: Expr) extends Expr"
   ]
  },
  {
   "cell_type": "code",
   "execution_count": 13,
   "metadata": {},
   "outputs": [
    {
     "data": {
      "text/plain": [
       "defined \u001b[32mfunction\u001b[39m \u001b[36mevalExpr\u001b[39m"
      ]
     },
     "execution_count": 13,
     "metadata": {},
     "output_type": "execute_result"
    }
   ],
   "source": [
    "def evalExpr(e: Expr, sigma: Map[String, Double]): Double = e match {\n",
    "    case Const(f) => f\n",
    "    case Ident(s) => {\n",
    "        if (sigma.contains(s)){\n",
    "            sigma(s)\n",
    "        } else {\n",
    "            throw new IllegalArgumentException(\"You never gave me a value for the identifier \" + s)\n",
    "        }\n",
    "    }\n",
    "    case Plus(e1, e2) => evalExpr(e1, sigma) + evalExpr(e2, sigma)\n",
    "    case Minus(e1, e2) => evalExpr(e1, sigma) - evalExpr(e2, sigma)\n",
    "    case Mult(e1, e2) => evalExpr(e1, sigma) * evalExpr(e2, sigma)\n",
    "    case Div(e1, e2) => evalExpr(e1, sigma)/evalExpr(e2, sigma)\n",
    "    case Exp(e1) => math.exp(evalExpr(e1, sigma))\n",
    "    case Sine(e1) => math.sin(evalExpr(e1, sigma))\n",
    "    case _ => throw new IllegalArgumentException(\"Did not handle it yet! Please wait for next version. Ciao!\")\n",
    "}"
   ]
  },
  {
   "cell_type": "code",
   "execution_count": 16,
   "metadata": {},
   "outputs": [
    {
     "ename": "",
     "evalue": "",
     "output_type": "error",
     "traceback": [
      "\u001b[31mjava.lang.IllegalArgumentException: You never gave me a value for the identifier w\u001b[39m\n  ammonite.$sess.cmd12$Helper.evalExpr(\u001b[32mcmd12.sc\u001b[39m:\u001b[32m7\u001b[39m)\n  ammonite.$sess.cmd12$Helper.evalExpr(\u001b[32mcmd12.sc\u001b[39m:\u001b[32m12\u001b[39m)\n  ammonite.$sess.cmd15$Helper.<init>(\u001b[32mcmd15.sc\u001b[39m:\u001b[32m3\u001b[39m)\n  ammonite.$sess.cmd15$.<init>(\u001b[32mcmd15.sc\u001b[39m:\u001b[32m7\u001b[39m)\n  ammonite.$sess.cmd15$.<clinit>(\u001b[32mcmd15.sc\u001b[39m:\u001b[32m-1\u001b[39m)"
     ]
    }
   ],
   "source": [
    "val m1: Map[String, Double] = Map(\"x\" -> 15.0, \"y\" -> 45.0 , \"z\" -> 122.3 )\n",
    "// x + 15\n",
    "evalExpr( Mult(Ident(\"w\"), Ident(\"x\")), m1)"
   ]
  },
  {
   "cell_type": "code",
   "execution_count": 17,
   "metadata": {},
   "outputs": [
    {
     "data": {
      "text/plain": [
       "defined \u001b[32mtrait\u001b[39m \u001b[36mCondExpr\u001b[39m\n",
       "defined \u001b[32mclass\u001b[39m \u001b[36mConstBool\u001b[39m\n",
       "defined \u001b[32mclass\u001b[39m \u001b[36mGeq\u001b[39m\n",
       "defined \u001b[32mclass\u001b[39m \u001b[36mEq\u001b[39m\n",
       "defined \u001b[32mclass\u001b[39m \u001b[36mAnd\u001b[39m\n",
       "defined \u001b[32mclass\u001b[39m \u001b[36mNot\u001b[39m"
      ]
     },
     "execution_count": 17,
     "metadata": {},
     "output_type": "execute_result"
    }
   ],
   "source": [
    "sealed trait CondExpr \n",
    "case class ConstBool(b: Boolean ) extends CondExpr\n",
    "case class Geq( e1: Expr, e2: Expr) extends CondExpr\n",
    "case class Eq(e1: Expr, e2: Expr) extends CondExpr\n",
    "case class And(c1: CondExpr, c2: CondExpr) extends CondExpr\n",
    "case class Not(c: CondExpr) extends CondExpr"
   ]
  },
  {
   "cell_type": "code",
   "execution_count": null,
   "metadata": {},
   "outputs": [],
   "source": [
    "def evalCondExpr(c: CondExpr, env: Map[String, Double]): Boolean = c match {\n",
    "    case ConstBool(b) => b\n",
    "    case Geq(e1, e2) => { val v1 =  evalExpr(e1, env) \n",
    "                          val v2 = evalExpr(e2, env)\n",
    "                         v1 >= v2 }\n",
    "    case Eq(e1, e2) => { // 0.1\n",
    "        // for (i = 0.1; i != 2.0; i = i + 0.002)\n",
    "        val v1 =  evalExpr(e1, env) \n",
    "        val v2 = evalExpr(e2, env)\n",
    "        v1 == v2 \n",
    "    }\n",
    "    case And(c1, c2) => {\n",
    "        val v1 = evalCondExpr(c1)\n",
    "        val v2 = evalCondExpr(c2)\n",
    "        v1 && v2\n",
    "        // BAD CODE: \n",
    "        // evalCondExpr(c1) && evalCondExpr(c2)\n",
    "        \n",
    "    }\n",
    "    case Not(c) =>! evalCondExpr(c1)\n",
    "}"
   ]
  },
  {
   "cell_type": "code",
   "execution_count": 19,
   "metadata": {},
   "outputs": [
    {
     "ename": "",
     "evalue": "",
     "output_type": "error",
     "traceback": [
      "\u001b[31mjava.lang.ArithmeticException: / by zero\u001b[39m\n  ammonite.$sess.cmd18$Helper.<init>(\u001b[32mcmd18.sc\u001b[39m:\u001b[32m1\u001b[39m)\n  ammonite.$sess.cmd18$.<init>(\u001b[32mcmd18.sc\u001b[39m:\u001b[32m7\u001b[39m)\n  ammonite.$sess.cmd18$.<clinit>(\u001b[32mcmd18.sc\u001b[39m:\u001b[32m-1\u001b[39m)"
     ]
    }
   ],
   "source": [
    "false && (1/0 == 0/0)\n",
    "\n",
    "And(ConstBool(false), ... )"
   ]
  },
  {
   "cell_type": "code",
   "execution_count": null,
   "metadata": {},
   "outputs": [],
   "source": [
    "// if (p  && (processValue(*p) != 45) ... ) {}"
   ]
  }
 ],
 "metadata": {
  "kernelspec": {
   "display_name": "Scala",
   "language": "scala",
   "name": "scala"
  },
  "language_info": {
   "codemirror_mode": "text/x-scala",
   "file_extension": ".scala",
   "mimetype": "text/x-scala",
   "name": "scala",
   "nbconvert_exporter": "script",
   "version": "2.12.8"
  }
 },
 "nbformat": 4,
 "nbformat_minor": 2
}
