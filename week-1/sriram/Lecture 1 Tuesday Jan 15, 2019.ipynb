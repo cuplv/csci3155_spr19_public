{
 "cells": [
  {
   "cell_type": "code",
   "execution_count": 1,
   "metadata": {},
   "outputs": [
    {
     "data": {
      "text/plain": [
       "\u001b[36mname\u001b[39m: \u001b[32mString\u001b[39m = \u001b[32m\"Hello\"\u001b[39m\n",
       "\u001b[36mname1\u001b[39m: \u001b[32mString\u001b[39m = \u001b[32m\"Hello\"\u001b[39m\n",
       "\u001b[36mname2\u001b[39m: \u001b[32mString\u001b[39m = \u001b[32m\"Hello\"\u001b[39m\n",
       "\u001b[36mname3\u001b[39m: \u001b[32mString\u001b[39m = \u001b[32m\"Hello\"\u001b[39m\n",
       "\u001b[36mname4\u001b[39m: \u001b[32mString\u001b[39m = \u001b[32m\"Hello\"\u001b[39m"
      ]
     },
     "execution_count": 1,
     "metadata": {},
     "output_type": "execute_result"
    }
   ],
   "source": [
    "val name = \"Hello\"\n",
    "val name1 = name\n",
    "val name2 = name\n",
    "val name3 = name\n",
    "val name4 = name"
   ]
  },
  {
   "cell_type": "code",
   "execution_count": 2,
   "metadata": {},
   "outputs": [
    {
     "data": {
      "text/plain": [
       "\u001b[36mvname\u001b[39m: \u001b[32mString\u001b[39m = \u001b[32m\"hello\"\u001b[39m\n",
       "\u001b[36mvname1\u001b[39m: \u001b[32mString\u001b[39m = \u001b[32m\"hello\"\u001b[39m\n",
       "\u001b[36mvname2\u001b[39m: \u001b[32mString\u001b[39m = \u001b[32m\"hello\"\u001b[39m\n",
       "\u001b[36mvname3\u001b[39m: \u001b[32mString\u001b[39m = \u001b[32m\"hello\"\u001b[39m\n",
       "\u001b[36mvname4\u001b[39m: \u001b[32mString\u001b[39m = \u001b[32m\"hello\"\u001b[39m"
      ]
     },
     "execution_count": 2,
     "metadata": {},
     "output_type": "execute_result"
    }
   ],
   "source": [
    "var vname = \"hello\"\n",
    "var vname1 = vname\n",
    "var vname2 = vname\n",
    "var vname3 = vname\n",
    "var vname4 = vname"
   ]
  },
  {
   "cell_type": "code",
   "execution_count": null,
   "metadata": {},
   "outputs": [],
   "source": []
  }
 ],
 "metadata": {
  "kernelspec": {
   "display_name": "Scala",
   "language": "scala",
   "name": "scala"
  },
  "language_info": {
   "codemirror_mode": "text/x-scala",
   "file_extension": ".scala",
   "mimetype": "text/x-scala",
   "name": "scala211",
   "nbconvert_exporter": "script",
   "pygments_lexer": "scala",
   "version": "2.11.11"
  }
 },
 "nbformat": 4,
 "nbformat_minor": 2
}
