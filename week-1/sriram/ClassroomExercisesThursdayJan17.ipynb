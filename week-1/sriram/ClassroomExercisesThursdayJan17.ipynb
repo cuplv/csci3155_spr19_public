{
 "cells": [
  {
   "cell_type": "markdown",
   "metadata": {},
   "source": [
    "# Scala Code Examples and Exercises (In Class)\n",
    "\n",
    "## 1. Var (Mutable), Val (Immutable), Defining Functions and Control Structures\n",
    "\n",
    "What does the following function do? \n",
    "\n",
    "Scala concepts introduced in this part.\n",
    "\n",
    "- var vs val\n",
    "- Basic loops like for and while \n",
    "- Recursive functions\n",
    "- Some scala oddities."
   ]
  },
  {
   "cell_type": "markdown",
   "metadata": {},
   "source": [
    "### P1 Write a factorial function in scala using a for loop."
   ]
  },
  {
   "cell_type": "code",
   "execution_count": null,
   "metadata": {},
   "outputs": [],
   "source": []
  },
  {
   "cell_type": "markdown",
   "metadata": {},
   "source": [
    "### P2 Write the factorial function using a recursive call."
   ]
  },
  {
   "cell_type": "code",
   "execution_count": null,
   "metadata": {},
   "outputs": [],
   "source": []
  },
  {
   "cell_type": "code",
   "execution_count": null,
   "metadata": {},
   "outputs": [],
   "source": []
  },
  {
   "cell_type": "markdown",
   "metadata": {},
   "source": [
    "### P3: What does this code below do?"
   ]
  },
  {
   "cell_type": "code",
   "execution_count": 38,
   "metadata": {},
   "outputs": [
    {
     "data": {
      "text/plain": [
       "defined \u001b[32mfunction\u001b[39m \u001b[36mcleanUpString\u001b[39m"
      ]
     },
     "execution_count": 38,
     "metadata": {},
     "output_type": "execute_result"
    }
   ],
   "source": [
    "def cleanUpString(s: String): String = {\n",
    "    var retString = \"\"\n",
    "    val n = s.length\n",
    "\n",
    "    for (i <- 0 until n) {\n",
    "        if (s(i) != \" \" && s(i) != \",\") {\n",
    "            retString = retString + s(i)\n",
    "        } \n",
    "    }// end of for loop\n",
    "    return retString // I could have written return retString\n",
    "    // return is optional in Scala\n",
    "}"
   ]
  },
  {
   "cell_type": "code",
   "execution_count": null,
   "metadata": {},
   "outputs": [],
   "source": [
    "def cleanUpStringRec(s: String, i: Int =0, retString: String=\"\"): String = {\n",
    "    if (i >= s.length) \n",
    "        return retString\n",
    "    else {\n",
    "        if (s(i)!= ' ' && s(i) != ',')\n",
    "            cleanUpStringRec(s, i+1, retString + s(i))\n",
    "        else \n",
    "            cleanUpStringRec(s, i+1, retString)\n",
    "    } \n",
    "}\n",
    "\n",
    "def cleanUpWrapper(s: String): String = cleanUpRec(s, 0, \"\")"
   ]
  },
  {
   "cell_type": "code",
   "execution_count": 4,
   "metadata": {},
   "outputs": [
    {
     "data": {
      "text/plain": [
       "\u001b[36mres3\u001b[39m: \u001b[32mString\u001b[39m = \u001b[32m\"HellomynameisSriramSankaranarayanan\"\u001b[39m"
      ]
     },
     "execution_count": 4,
     "metadata": {},
     "output_type": "execute_result"
    }
   ],
   "source": [
    "cleanUpString(\"Hello, my name is Sriram Sankaranarayanan\")"
   ]
  },
  {
   "cell_type": "code",
   "execution_count": 5,
   "metadata": {},
   "outputs": [
    {
     "data": {
      "text/plain": [
       "\u001b[36mres4\u001b[39m: \u001b[32mString\u001b[39m = \u001b[32m\"BlahBlahBlahBlahBlah\"\u001b[39m"
      ]
     },
     "execution_count": 5,
     "metadata": {},
     "output_type": "execute_result"
    }
   ],
   "source": [
    "cleanUpString(\"Blah,Blah Blah Blah Blah\")"
   ]
  },
  {
   "cell_type": "markdown",
   "metadata": {},
   "source": [
    "Let us attempt the same function without using mutables. What do we use instead?\n",
    "\n",
    "The answer is that we will use recursion instead of a loop. This is lesson number one of functional programming."
   ]
  },
  {
   "cell_type": "code",
   "execution_count": 7,
   "metadata": {},
   "outputs": [
    {
     "data": {
      "text/plain": [
       "defined \u001b[32mfunction\u001b[39m \u001b[36mcleanUpStringRec\u001b[39m"
      ]
     },
     "execution_count": 7,
     "metadata": {},
     "output_type": "execute_result"
    }
   ],
   "source": [
    "def cleanUpStringRec(s: String, i: Int, retString: String): String = {\n",
    "    if (i >= s.length) \n",
    "        retString\n",
    "    else {\n",
    "        val tmp = if (s(i) != ' ' && s(i) != ',') \n",
    "                        retString + s(i)\n",
    "                  else\n",
    "                        retString \n",
    "        cleanUpStringRec(s, i+1, tmp)\n",
    "    }\n",
    "}"
   ]
  },
  {
   "cell_type": "markdown",
   "metadata": {},
   "source": [
    "### P4 Write a function called `reverseString` that inputs a string and returns the reverse of a string."
   ]
  },
  {
   "cell_type": "code",
   "execution_count": 49,
   "metadata": {},
   "outputs": [
    {
     "data": {
      "text/plain": [
       "defined \u001b[32mfunction\u001b[39m \u001b[36mreverseString\u001b[39m"
      ]
     },
     "execution_count": 49,
     "metadata": {},
     "output_type": "execute_result"
    }
   ],
   "source": [
    "def reverseString(s: String): String = {\n",
    "    var retString = // allocate a string of length n\n",
    "    for (i <- s.length-1 to 0 by -1){\n",
    "        retString = retString + s(i)\n",
    "    }\n",
    "    return retString\n",
    "}"
   ]
  },
  {
   "cell_type": "code",
   "execution_count": 50,
   "metadata": {},
   "outputs": [
    {
     "data": {
      "text/plain": [
       "\u001b[36mres49\u001b[39m: \u001b[32mString\u001b[39m = \u001b[32m\"olleh\"\u001b[39m"
      ]
     },
     "execution_count": 50,
     "metadata": {},
     "output_type": "execute_result"
    }
   ],
   "source": [
    "reverseString(\"hello\")"
   ]
  },
  {
   "cell_type": "code",
   "execution_count": 51,
   "metadata": {},
   "outputs": [
    {
     "data": {
      "text/plain": [
       "\u001b[36mx\u001b[39m: \u001b[32mString\u001b[39m = \u001b[32m\"w\"\u001b[39m"
      ]
     },
     "execution_count": 51,
     "metadata": {},
     "output_type": "execute_result"
    }
   ],
   "source": [
    "var x = \"hello\"\n",
    "x  = \"w\""
   ]
  },
  {
   "cell_type": "markdown",
   "metadata": {},
   "source": [
    "### P5 Write the `reverseString` function as a recursion"
   ]
  },
  {
   "cell_type": "code",
   "execution_count": null,
   "metadata": {},
   "outputs": [],
   "source": [
    "def reverseString(s: String): String=  { \n",
    "    if (s.length <= 1) \n",
    "      return s\n",
    "    else { \n",
    "      val s1 = s.substring(1, s.length)\n",
    "      val rev_s1 = reverseString(s1)\n",
    "      return rev_s1 + s(0)\n",
    "        \n",
    "    } "
   ]
  },
  {
   "cell_type": "markdown",
   "metadata": {},
   "source": [
    "## 2. If then else expressions.\n",
    "\n",
    "Unlike C and Python, everything in scala evaluates to a value."
   ]
  },
  {
   "cell_type": "code",
   "execution_count": 8,
   "metadata": {},
   "outputs": [
    {
     "data": {
      "text/plain": [
       "\u001b[36mx\u001b[39m: \u001b[32mString\u001b[39m = \u001b[32m\"hello\"\u001b[39m"
      ]
     },
     "execution_count": 8,
     "metadata": {},
     "output_type": "execute_result"
    }
   ],
   "source": [
    "val x = if (10 >= 5) \"hello\" else \"world\""
   ]
  },
  {
   "cell_type": "code",
   "execution_count": 10,
   "metadata": {},
   "outputs": [
    {
     "data": {
      "text/plain": [
       "\u001b[36my\u001b[39m: \u001b[32mString\u001b[39m = \u001b[32m\"do not care\"\u001b[39m"
      ]
     },
     "execution_count": 10,
     "metadata": {},
     "output_type": "execute_result"
    }
   ],
   "source": [
    "val y = if (15 >= 19) \n",
    "   \"hello\"\n",
    "else\n",
    "   \"do not care\""
   ]
  },
  {
   "cell_type": "markdown",
   "metadata": {},
   "source": [
    "What is wrong with the function below?"
   ]
  },
  {
   "cell_type": "code",
   "execution_count": 19,
   "metadata": {},
   "outputs": [
    {
     "name": "stderr",
     "output_type": "stream",
     "text": [
      "cmd19.sc:5: type mismatch;\n",
      " found   : String(\"45\")\n",
      " required: Int\n",
      "               \"45\"\n",
      "               ^Compilation Failed"
     ]
    },
    {
     "ename": "",
     "evalue": "",
     "output_type": "error",
     "traceback": [
      "Compilation Failed"
     ]
    }
   ],
   "source": [
    "def whatIsWrong(y: String): Int = \n",
    "    if (y.length >= 15) \n",
    "                45\n",
    "            else\n",
    "               \"45\""
   ]
  },
  {
   "cell_type": "code",
   "execution_count": 12,
   "metadata": {},
   "outputs": [
    {
     "name": "stdout",
     "output_type": "stream",
     "text": [
      "do not care\n"
     ]
    }
   ],
   "source": [
    "val z = if (18 >= 35)\n",
    "    println (x)\n",
    "else\n",
    "    println(y)"
   ]
  },
  {
   "cell_type": "code",
   "execution_count": 13,
   "metadata": {},
   "outputs": [
    {
     "name": "stdout",
     "output_type": "stream",
     "text": [
      "()\n"
     ]
    }
   ],
   "source": [
    "println(z)"
   ]
  },
  {
   "cell_type": "markdown",
   "metadata": {},
   "source": [
    "What is `()`? It is a special value of a type called `Unit`. It represents the value of a statement that would normally not return value. Eg., `println(\"hello\")` is not expected to return value. In scala, we say that it returns the Unit type. "
   ]
  },
  {
   "cell_type": "markdown",
   "metadata": {},
   "source": [
    "When you write an if statement **without** the else part, what happens?"
   ]
  },
  {
   "cell_type": "code",
   "execution_count": 14,
   "metadata": {},
   "outputs": [
    {
     "name": "stderr",
     "output_type": "stream",
     "text": [
      "cmd14.sc:2: type mismatch;\n",
      " found   : Unit\n",
      " required: Int\n",
      "    if (x == \"hello\")\n",
      "    ^Compilation Failed"
     ]
    },
    {
     "ename": "",
     "evalue": "",
     "output_type": "error",
     "traceback": [
      "Compilation Failed"
     ]
    }
   ],
   "source": [
    "def crazyFun(x: String): Int = {\n",
    "    if (x == \"hello\")\n",
    "       42\n",
    "    // no else statement\n",
    "}"
   ]
  },
  {
   "cell_type": "markdown",
   "metadata": {},
   "source": [
    "Explain why the code below runs without any problems even though it has no else branch?"
   ]
  },
  {
   "cell_type": "code",
   "execution_count": 16,
   "metadata": {},
   "outputs": [
    {
     "data": {
      "text/plain": [
       "defined \u001b[32mfunction\u001b[39m \u001b[36mnotSoCrazy\u001b[39m"
      ]
     },
     "execution_count": 16,
     "metadata": {},
     "output_type": "execute_result"
    }
   ],
   "source": [
    "def notSoCrazy(x: String) : Unit = {\n",
    "    if (x == \"hello\")\n",
    "        println(x)\n",
    "}"
   ]
  },
  {
   "cell_type": "code",
   "execution_count": 17,
   "metadata": {},
   "outputs": [
    {
     "name": "stdout",
     "output_type": "stream",
     "text": [
      "hello\n"
     ]
    }
   ],
   "source": [
    "notSoCrazy(\"hello\")"
   ]
  },
  {
   "cell_type": "code",
   "execution_count": 18,
   "metadata": {},
   "outputs": [],
   "source": [
    "notSoCrazy(\"hi\")"
   ]
  },
  {
   "cell_type": "markdown",
   "metadata": {},
   "source": [
    "### If Then without Else \n",
    "\n",
    "In scala when we write\n",
    "\n",
    "~~~\n",
    "if (expr1) \n",
    "    expr2\n",
    "// without else\n",
    "~~~\n",
    "\n",
    "It is taken to mean\n",
    "\n",
    "~~~\n",
    "if (expr1)\n",
    "   expr2\n",
    "else\n",
    "   ()\n",
    "~~~"
   ]
  },
  {
   "cell_type": "markdown",
   "metadata": {},
   "source": [
    "## Classes in Scala\n",
    "\n",
    "Scala is built as an object oriented language. Therefore classes are the most important concept in scala that we should learn from the get go.\n",
    "\n",
    "Here is an example class in Scala."
   ]
  },
  {
   "cell_type": "code",
   "execution_count": 29,
   "metadata": {},
   "outputs": [
    {
     "data": {
      "text/plain": [
       "defined \u001b[32mclass\u001b[39m \u001b[36mDoggie\u001b[39m"
      ]
     },
     "execution_count": 29,
     "metadata": {},
     "output_type": "execute_result"
    }
   ],
   "source": [
    "// class Doggie {\n",
    "//    const string name = \"mkm\";\n",
    "//    const int age = 20;\n",
    "// } \n",
    "//\n",
    "class Doggie(val name: String, val age: Int )  {\n",
    "    def getName(): String = { return name }\n",
    "    def getAge(): Int = age\n",
    "    def bark(): Unit = println(\"Wuff Wuff!\")\n",
    "    def altBark(): Unit = println(\"Arrrufff Arrrufff Arrufff!\")\n",
    "}\n",
    "   "
   ]
  },
  {
   "cell_type": "code",
   "execution_count": 30,
   "metadata": {},
   "outputs": [
    {
     "data": {
      "text/plain": [
       "\u001b[36md\u001b[39m: \u001b[32mDoggie\u001b[39m = ammonite.$sess.cmd28$Helper$Doggie@4f1c18ab"
      ]
     },
     "execution_count": 30,
     "metadata": {},
     "output_type": "execute_result"
    }
   ],
   "source": [
    "val d = new Doggie(\"Bo\", 2)"
   ]
  },
  {
   "cell_type": "code",
   "execution_count": 32,
   "metadata": {},
   "outputs": [
    {
     "name": "stdout",
     "output_type": "stream",
     "text": [
      "Wuff Wuff!\n",
      "Arrrufff Arrrufff Arrufff!\n"
     ]
    },
    {
     "data": {
      "text/plain": [
       "\u001b[36mres31_0\u001b[39m: \u001b[32mString\u001b[39m = \u001b[32m\"Bo\"\u001b[39m\n",
       "\u001b[36mres31_1\u001b[39m: \u001b[32mInt\u001b[39m = \u001b[32m2\u001b[39m"
      ]
     },
     "execution_count": 32,
     "metadata": {},
     "output_type": "execute_result"
    }
   ],
   "source": [
    "d.getName\n",
    "d.getAge()\n",
    "d.bark\n",
    "d.altBark"
   ]
  },
  {
   "cell_type": "code",
   "execution_count": 34,
   "metadata": {},
   "outputs": [
    {
     "name": "stdout",
     "output_type": "stream",
     "text": [
      "ammonite.$sess.cmd28$Helper$Doggie@565f6f31\n"
     ]
    },
    {
     "data": {
      "text/plain": [
       "\u001b[36me\u001b[39m: \u001b[32mDoggie\u001b[39m = ammonite.$sess.cmd28$Helper$Doggie@565f6f31"
      ]
     },
     "execution_count": 34,
     "metadata": {},
     "output_type": "execute_result"
    }
   ],
   "source": [
    "val e = new Doggie(\"RuffRuffman\", 5)\n",
    "println(e)"
   ]
  },
  {
   "cell_type": "markdown",
   "metadata": {},
   "source": [
    "Overloading standard operators: `toString`."
   ]
  },
  {
   "cell_type": "code",
   "execution_count": 35,
   "metadata": {},
   "outputs": [
    {
     "data": {
      "text/plain": [
       "defined \u001b[32mclass\u001b[39m \u001b[36mDoggieWithPrettyPrint\u001b[39m"
      ]
     },
     "execution_count": 35,
     "metadata": {},
     "output_type": "execute_result"
    }
   ],
   "source": [
    "class DoggieWithPrettyPrint(val name: String, val age: Int) {\n",
    "    /*-- Cut and Paste !! Bad Bad Bad Bad Bad --*/\n",
    "    def getName: String = name\n",
    "    def getAge(): Int = age\n",
    "    def bark: Unit = println(\"Wuff Wuff!\")\n",
    "    def altBark(): Unit = println(\"Arrrufff Arrrufff Arrufff!\")\n",
    "    \n",
    "    \n",
    "    override def toString: String = s\"Dog Name: $name, age: $age\"\n",
    "}"
   ]
  },
  {
   "cell_type": "code",
   "execution_count": 36,
   "metadata": {},
   "outputs": [
    {
     "name": "stdout",
     "output_type": "stream",
     "text": [
      "Dog Name: RuffRuffman, age: 5\n"
     ]
    },
    {
     "data": {
      "text/plain": [
       "\u001b[36me\u001b[39m: \u001b[32mDoggieWithPrettyPrint\u001b[39m = Dog Name: RuffRuffman, age: 5"
      ]
     },
     "execution_count": 36,
     "metadata": {},
     "output_type": "execute_result"
    }
   ],
   "source": [
    "val e = new DoggieWithPrettyPrint(\"RuffRuffman\", 5)\n"
   ]
  },
  {
   "cell_type": "code",
   "execution_count": 37,
   "metadata": {},
   "outputs": [
    {
     "name": "stdout",
     "output_type": "stream",
     "text": [
      "Dog Name: RuffRuffman, age: 5\n"
     ]
    }
   ],
   "source": [
    "println(e)"
   ]
  }
 ],
 "metadata": {
  "kernelspec": {
   "display_name": "Scala",
   "language": "scala",
   "name": "scala"
  },
  "language_info": {
   "codemirror_mode": "text/x-scala",
   "file_extension": ".scala",
   "mimetype": "text/x-scala",
   "name": "scala",
   "nbconvert_exporter": "script",
   "version": "2.12.8"
  }
 },
 "nbformat": 4,
 "nbformat_minor": 2
}
