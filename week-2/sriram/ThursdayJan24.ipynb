{
 "cells": [
  {
   "cell_type": "markdown",
   "metadata": {},
   "source": [
    " List -> Nil\n",
    " List -> Cons(ScalaIntegers, List)\n",
    " List -> ConsL(List, List)\n"
   ]
  },
  {
   "cell_type": "code",
   "execution_count": 14,
   "metadata": {},
   "outputs": [
    {
     "data": {
      "text/plain": [
       "defined \u001b[32mtrait\u001b[39m \u001b[36mList\u001b[39m\n",
       "defined \u001b[32mobject\u001b[39m \u001b[36mNil\u001b[39m\n",
       "defined \u001b[32mclass\u001b[39m \u001b[36mCons\u001b[39m\n",
       "defined \u001b[32mclass\u001b[39m \u001b[36mConsL\u001b[39m"
      ]
     },
     "execution_count": 14,
     "metadata": {},
     "output_type": "execute_result"
    }
   ],
   "source": [
    "sealed trait List\n",
    "case object Nil extends List\n",
    "case class Cons(j: Int, l: List) extends List\n",
    "case class ConsL(l1: List, l2: List) extends List"
   ]
  },
  {
   "cell_type": "code",
   "execution_count": 15,
   "metadata": {},
   "outputs": [
    {
     "data": {
      "text/plain": [
       "\u001b[36ml1\u001b[39m: \u001b[32mNil\u001b[39m = Nil"
      ]
     },
     "execution_count": 15,
     "metadata": {},
     "output_type": "execute_result"
    }
   ],
   "source": [
    "val l1 = Nil"
   ]
  },
  {
   "cell_type": "code",
   "execution_count": 16,
   "metadata": {},
   "outputs": [
    {
     "data": {
      "text/plain": [
       "\u001b[36ml2\u001b[39m: \u001b[32mCons\u001b[39m = \u001b[33mCons\u001b[39m(\u001b[32m25\u001b[39m, \u001b[33mCons\u001b[39m(\u001b[32m24\u001b[39m, \u001b[33mCons\u001b[39m(\u001b[32m12\u001b[39m, Nil)))"
      ]
     },
     "execution_count": 16,
     "metadata": {},
     "output_type": "execute_result"
    }
   ],
   "source": [
    "val l2 = Cons(25, Cons(24, Cons(12, Nil)))"
   ]
  },
  {
   "cell_type": "code",
   "execution_count": 17,
   "metadata": {},
   "outputs": [
    {
     "data": {
      "text/plain": [
       "\u001b[36ml3\u001b[39m: \u001b[32mCons\u001b[39m = \u001b[33mCons\u001b[39m(\u001b[32m1\u001b[39m, Nil)"
      ]
     },
     "execution_count": 17,
     "metadata": {},
     "output_type": "execute_result"
    }
   ],
   "source": [
    "val l3 = Cons(1, Nil)"
   ]
  },
  {
   "cell_type": "code",
   "execution_count": 18,
   "metadata": {},
   "outputs": [
    {
     "data": {
      "text/plain": [
       "\u001b[36ml4\u001b[39m: \u001b[32mConsL\u001b[39m = \u001b[33mConsL\u001b[39m(\u001b[33mCons\u001b[39m(\u001b[32m1\u001b[39m, Nil), \u001b[33mCons\u001b[39m(\u001b[32m25\u001b[39m, \u001b[33mCons\u001b[39m(\u001b[32m24\u001b[39m, \u001b[33mCons\u001b[39m(\u001b[32m12\u001b[39m, Nil))))"
      ]
     },
     "execution_count": 18,
     "metadata": {},
     "output_type": "execute_result"
    }
   ],
   "source": [
    "val l4 = ConsL(l3, l2)"
   ]
  },
  {
   "cell_type": "code",
   "execution_count": 19,
   "metadata": {},
   "outputs": [
    {
     "data": {
      "text/plain": [
       "\u001b[36ml5\u001b[39m: \u001b[32mConsL\u001b[39m = \u001b[33mConsL\u001b[39m(\n",
       "  \u001b[33mConsL\u001b[39m(\u001b[33mCons\u001b[39m(\u001b[32m1\u001b[39m, Nil), \u001b[33mCons\u001b[39m(\u001b[32m25\u001b[39m, \u001b[33mCons\u001b[39m(\u001b[32m24\u001b[39m, \u001b[33mCons\u001b[39m(\u001b[32m12\u001b[39m, Nil)))),\n",
       "  \u001b[33mConsL\u001b[39m(\u001b[33mCons\u001b[39m(\u001b[32m1\u001b[39m, Nil), \u001b[33mCons\u001b[39m(\u001b[32m25\u001b[39m, \u001b[33mCons\u001b[39m(\u001b[32m24\u001b[39m, \u001b[33mCons\u001b[39m(\u001b[32m12\u001b[39m, Nil))))\n",
       ")"
      ]
     },
     "execution_count": 19,
     "metadata": {},
     "output_type": "execute_result"
    }
   ],
   "source": [
    "val l5 = ConsL(l4, l4)"
   ]
  },
  {
   "cell_type": "markdown",
   "metadata": {},
   "source": [
    "Tree -> Leaf\n",
    "Tree -> Node(Int, Tree, Tree)\n",
    "Start symbol is Tree\n",
    "\n",
    "Example tree\n",
    "\n",
    "Node(5, Node(4, Leaf, Leaf), Node(15, Leaf, Leaf))"
   ]
  },
  {
   "cell_type": "code",
   "execution_count": null,
   "metadata": {},
   "outputs": [],
   "source": [
    "sealed trait Tree\n",
    "case object Leaf extends Tree\n",
    "case class Node(j: Int, t1: Tree, t2: Tree) extends Tree"
   ]
  }
 ],
 "metadata": {
  "kernelspec": {
   "display_name": "Scala",
   "language": "scala",
   "name": "scala"
  },
  "language_info": {
   "codemirror_mode": "text/x-scala",
   "file_extension": ".scala",
   "mimetype": "text/x-scala",
   "name": "scala",
   "nbconvert_exporter": "script",
   "version": "2.12.8"
  }
 },
 "nbformat": 4,
 "nbformat_minor": 2
}
